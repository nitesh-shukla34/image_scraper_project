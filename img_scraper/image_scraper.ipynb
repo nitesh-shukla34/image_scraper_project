{
 "cells": [
  {
   "cell_type": "code",
   "execution_count": 1,
   "id": "bec0332c-789a-43b0-875c-c41b7c57c90d",
   "metadata": {},
   "outputs": [],
   "source": [
    "import requests\n",
    "import logging\n",
    "import os\n",
    "from bs4 import BeautifulSoup\n",
    "from urllib.request import urlopen"
   ]
  },
  {
   "cell_type": "code",
   "execution_count": 2,
   "id": "c8a8c328-d359-43d5-b674-5025d363648b",
   "metadata": {},
   "outputs": [],
   "source": [
    "save_dir=\"images/\"\n",
    "if not os.path.exists(save_dir):\n",
    "    os.makedirs(save_dir)"
   ]
  },
  {
   "cell_type": "code",
   "execution_count": null,
   "id": "889f16c6-d7cc-4a0e-9406-036c562477fb",
   "metadata": {},
   "outputs": [],
   "source": [
    "query=(\"Virat kohli\")\n",
    "# url=https://www.google.co.in/search?q=query&sca_esv=575601661&tbm=isch&source=lnms&sa=X&ved=2ahUKEwjl-56U34mCAxU62TgGHZ62AWwQ_AUoAnoECAEQBA&biw=1536&bih=739&dpr=1.25"
   ]
  },
  {
   "cell_type": "code",
   "execution_count": 74,
   "id": "8f843ad1-e358-4102-943f-138534d80928",
   "metadata": {},
   "outputs": [],
   "source": [
    "response=requests.get(f\"https://www.google.co.in/search?q={query}&sca_esv=575601661&tbm=isch&source=lnms&sa=X&ved=2ahUKEwjl-56U34mCAxU62TgGHZ62AWwQ_AUoAnoECAEQBA&biw=1536&bih=739&dpr=1.25\")"
   ]
  },
  {
   "cell_type": "code",
   "execution_count": 75,
   "id": "da675571-014a-46b1-84dd-b90b63ff2101",
   "metadata": {},
   "outputs": [
    {
     "data": {
      "text/plain": [
       "<Response [200]>"
      ]
     },
     "execution_count": 75,
     "metadata": {},
     "output_type": "execute_result"
    }
   ],
   "source": [
    "response"
   ]
  },
  {
   "cell_type": "code",
   "execution_count": 76,
   "id": "fa1e32d0-4a9d-4fe6-bf6e-367544e0e8e7",
   "metadata": {},
   "outputs": [],
   "source": [
    "soup=BeautifulSoup(response.content,\"html.parser\")"
   ]
  },
  {
   "cell_type": "code",
   "execution_count": 77,
   "id": "274b9f04-b1e0-4002-ba61-5fbac9afed28",
   "metadata": {},
   "outputs": [
    {
     "data": {
      "text/plain": [
       "<!DOCTYPE html PUBLIC \"-//WAPFORUM//DTD XHTML Mobile 1.0//EN\" \"http://www.wapforum.org/DTD/xhtml-mobile10.dtd\">\n",
       "<html lang=\"en-IN\" xmlns=\"http://www.w3.org/1999/xhtml\"><head><meta content=\"application/xhtml+xml; charset=utf-8\" http-equiv=\"Content-Type\"/><meta content=\"no-cache\" name=\"Cache-Control\"/><title>Lord Rama laptop wallpaper images - Google Search</title><style>a{text-decoration:none;color:inherit}a:hover{text-decoration:underline}a img{border:0}body{font-family:arial,sans-serif;padding:8px;margin:0 auto;max-width:700px;min-width:240px;}.FbhRzb{border-left:thin solid #dadce0;border-right:thin solid #dadce0;border-top:thin solid #dadce0;height:40px;overflow:hidden}.n692Zd{margin-bottom:10px}.cvifge{height:40px;border-spacing:0}.QvGUP{height:40px;padding:0 8px 0 8px;vertical-align:top}.O4cRJf{height:40px;width:100%;padding:0;padding-right:16px}.O1ePr{height:40px;padding:0;vertical-align:top}.kgJEQe{height:36px;width:98px;vertical-align:top;margin-top:4px}.lXLRf{vertical-align:top}.MhzMZd{border:0;vertical-align:middle;font-size:14px;height:40px;padding:0;width:100%;padding-left:16px}.xB0fq{height:40px;border:none;font-size:14px;background-color:#1a73e8;color:#fff;padding:0 16px;margin:0;vertical-align:top;cursor:pointer}.xB0fq:focus{border:1px solid #1a73e8}.M7pB2{border:thin solid #dadce0;margin:0 0 3px 0;font-size:13px;font-weight:500;height:40px}.euZec{width:100%;height:40px;text-align:center;border-spacing:0}table.euZec td{padding:0;width:25%}.QIqI7{display:inline-block;padding-top:4px;font-weight:bold;color:#4285f4}.EY24We{border-bottom:2px solid #4285f4}.CsQyDc{display:inline-block;color:#70757a}.TuS8Ad{font-size:14px}.HddGcc{padding:8px;color:#70757a}.dzp8ae{font-weight:bold;color:#3c4043}.rEM8G{color:#70757a}.bookcf{table-layout:fixed;width:100%;border-spacing:0}.InWNIe{text-align:center}.uZgmoc{border:thin solid #dadce0;color:#70757a;font-size:14px;text-align:center;table-layout:fixed;width:100%}.frGj1b{display:block;padding:12px 0 12px 0;width:100%}.BnJWBc{text-align:center;padding:6px 0 13px 0;height:35px}.e3goi{vertical-align:top;padding:0;height:180px}.GpQGbf{margin:auto;border-collapse:collapse;border-spacing:0;width:100%}</style></head><body><style>.X6ZCif{color:#202124;font-size:11px;line-height:16px;display:inline-block;padding-top:2px;overflow:hidden;padding-bottom:4px;width:100%}.TwVfHd{border-radius:16px;border:thin solid #dadce0;display:inline-block;padding:8px 8px;margin-right:8px;margin-bottom:4px}.yekiAe{background-color:#dadce0}.jjVJ4e{width:100%}.ezO2md{border:thin solid #dadce0;padding:12px 16px 12px 16px;margin-bottom:10px;font-family:arial,sans-serif}.lIMUZd{font-family:arial,sans-serif}.RntSmf{border-spacing:0}.lgD2Tc{width:100%}.SpelHe{text-align:center}.SpelHe{position:relative}.deHqpb{bottom:0;left:0;margin:auto;position:absolute;right:0;top:0}.kCmkOe{position:relative}.ID6Z3b{background-image:url(https://www.gstatic.com/search_trustx/visibility_off_icon_p0-7d897bf44bafe5436baa9009e8716337.png);background-repeat:no-repeat;background-position:center;background-size:20px}.kCmkOe{width:162px;height:140px;line-height:140px;overflow:'hidden';text-align:center}.DS1iW{text-align:center;margin:auto;vertical-align:middle;max-width:162px;max-height:140px}.AlD19d{padding-top:2px;padding-bottom:8px;}.fYyStc{word-break:break-word}.ynsChf{display:block;white-space:nowrap;overflow:hidden;text-overflow:ellipsis}.Fj3V3b{color:#1967d2;font-size:14px;line-height:20px}.FrIlee{color:#202124;font-size:11px;line-height:16px}.F9iS2e{color:#70757a;font-size:11px;line-height:16px}.WMQ2Le{color:#70757a;font-size:12px;line-height:16px}.x3G5ab{color:#202124;font-size:12px;line-height:16px}.fuLhoc{color:#1967d2;font-size:16px;line-height:20px}.epoveb{font-size:24px;line-height:28px;font-weight:400;color:#202124}.dXDvrc{color:#0d652d;font-size:14px;line-height:20px;word-wrap:break-word}.dloBPe{font-weight:bold}.YVIcad{color:#70757a}.JkVVdd{color:#ea4335}.oXZRFd{color:#ea4335}.MQHtg{color:#fbbc04}.pyMRrb{color:#1e8e3e}.EtTZid{color:#1e8e3e}.M3vVJe{color:#1967d2}.qXLe6d{display:block}.NHQNef{font-style:italic}.Cb8Z7c{white-space:pre}a.ZWRArf{text-decoration:none}a .CVA68e:hover{text-decoration:underline}</style><div class=\"n692Zd\"><div class=\"BnJWBc\"><a class=\"lXLRf\" href=\"/?sa=X&amp;sca_esv=575601661&amp;biw=1536&amp;bih=739&amp;output=images&amp;ie=UTF-8&amp;tbm=isch&amp;ved=0ahUKEwiOoaih9ImCAxW2k1YBHbThDjMQPAgC\"><img alt=\"Google\" class=\"kgJEQe\" src=\"/images/branding/searchlogo/1x/googlelogo_desk_heirloom_color_150x55dp.gif\"/></a></div><div class=\"FbhRzb\"><form action=\"/search\"><input name=\"sca_esv\" type=\"hidden\" value=\"575601661\"/><input name=\"biw\" type=\"hidden\" value=\"1536\"/><input name=\"bih\" type=\"hidden\" value=\"739\"/><input name=\"ie\" type=\"hidden\" value=\"ISO-8859-1\"/><input name=\"tbm\" type=\"hidden\" value=\"isch\"/><input name=\"oq\" type=\"hidden\"/><input name=\"aqs\" type=\"hidden\"/><table class=\"cvifge\"><tr><td class=\"O4cRJf\"><input class=\"MhzMZd\" name=\"q\" type=\"text\" value=\"Lord Rama laptop wallpaper images\"/></td><td class=\"O1ePr\"><input class=\"xB0fq\" type=\"submit\" value=\"Search\"/></td></tr></table></form></div><div class=\"M7pB2\"><table class=\"euZec\"><tbody><tr><td><a class=\"CsQyDc\" href=\"/search?q=Lord+Rama+laptop+wallpaper+images&amp;sca_esv=575601661&amp;biw=1536&amp;bih=739&amp;ie=UTF-8&amp;source=lnms&amp;sa=X&amp;ved=0ahUKEwiOoaih9ImCAxW2k1YBHbThDjMQ_AUIBCgA\">ALL</a></td><td class=\"EY24We\"><span class=\"QIqI7\">IMAGES</span></td><td><a class=\"CsQyDc\" href=\"/search?q=Lord+Rama+laptop+wallpaper+images&amp;sca_esv=575601661&amp;biw=1536&amp;bih=739&amp;ie=UTF-8&amp;tbm=vid&amp;source=lnms&amp;sa=X&amp;ved=0ahUKEwiOoaih9ImCAxW2k1YBHbThDjMQ_AUIBigC\">VIDEOS</a></td><td><a class=\"CsQyDc\" href=\"/search?q=Lord+Rama+laptop+wallpaper+images&amp;sca_esv=575601661&amp;biw=1536&amp;bih=739&amp;ie=UTF-8&amp;tbm=nws&amp;source=lnms&amp;sa=X&amp;ved=0ahUKEwiOoaih9ImCAxW2k1YBHbThDjMQ_AUIBygD\">NEWS</a></td></tr></tbody></table></div></div><div class=\"X6ZCif\"><a class=\"TwVfHd\" href=\"/search?sca_esv=575601661&amp;biw=1536&amp;bih=739&amp;ie=UTF-8&amp;tbm=isch&amp;q=Lord+Rama+laptop+wallpaper+images&amp;chips=q:lord+rama+laptop+wallpaper+images,online_chips:shiva&amp;sa=X&amp;ved=0ahUKEwiOoaih9ImCAxW2k1YBHbThDjMQ4lYICygA\">shiva</a><a class=\"TwVfHd\" href=\"/search?sca_esv=575601661&amp;biw=1536&amp;bih=739&amp;ie=UTF-8&amp;tbm=isch&amp;q=Lord+Rama+laptop+wallpaper+images&amp;chips=q:lord+rama+laptop+wallpaper+images,online_chips:lord+shiva+hd&amp;sa=X&amp;ved=0ahUKEwiOoaih9ImCAxW2k1YBHbThDjMQ4lYIDCgB\">lord shiva hd</a><a class=\"TwVfHd\" href=\"/search?sca_esv=575601661&amp;biw=1536&amp;bih=739&amp;ie=UTF-8&amp;tbm=isch&amp;q=Lord+Rama+laptop+wallpaper+images&amp;chips=q:lord+rama+laptop+wallpaper+images,online_chips:lord+krishna&amp;sa=X&amp;ved=0ahUKEwiOoaih9ImCAxW2k1YBHbThDjMQ4lYIDSgC\">lord krishna</a><a class=\"TwVfHd\" href=\"/search?sca_esv=575601661&amp;biw=1536&amp;bih=739&amp;ie=UTF-8&amp;tbm=isch&amp;q=Lord+Rama+laptop+wallpaper+images&amp;chips=q:lord+rama+laptop+wallpaper+images,online_chips:ram+sita&amp;sa=X&amp;ved=0ahUKEwiOoaih9ImCAxW2k1YBHbThDjMQ4lYIDigD\">ram sita</a><a class=\"TwVfHd\" href=\"/search?sca_esv=575601661&amp;biw=1536&amp;bih=739&amp;ie=UTF-8&amp;tbm=isch&amp;q=Lord+Rama+laptop+wallpaper+images&amp;chips=q:lord+rama+laptop+wallpaper+images,online_chips:lord+hanuman+ji&amp;sa=X&amp;ved=0ahUKEwiOoaih9ImCAxW2k1YBHbThDjMQ4lYIDygE\">lord hanuman ji</a><a class=\"TwVfHd\" href=\"/search?sca_esv=575601661&amp;biw=1536&amp;bih=739&amp;ie=UTF-8&amp;tbm=isch&amp;q=Lord+Rama+laptop+wallpaper+images&amp;chips=q:lord+rama+laptop+wallpaper+images,online_chips:ram+laxman&amp;sa=X&amp;ved=0ahUKEwiOoaih9ImCAxW2k1YBHbThDjMQ4lYIECgF\">ram laxman</a><a class=\"TwVfHd\" href=\"/search?sca_esv=575601661&amp;biw=1536&amp;bih=739&amp;ie=UTF-8&amp;tbm=isch&amp;q=Lord+Rama+laptop+wallpaper+images&amp;chips=q:lord+rama+laptop+wallpaper+images,online_chips:shiva+wallpaper&amp;sa=X&amp;ved=0ahUKEwiOoaih9ImCAxW2k1YBHbThDjMQ4lYIESgG\">shiva wallpaper</a><a class=\"TwVfHd\" href=\"/search?sca_esv=575601661&amp;biw=1536&amp;bih=739&amp;ie=UTF-8&amp;tbm=isch&amp;q=Lord+Rama+laptop+wallpaper+images&amp;chips=q:lord+rama+laptop+wallpaper+images,online_chips:jai+shree&amp;sa=X&amp;ved=0ahUKEwiOoaih9ImCAxW2k1YBHbThDjMQ4lYIEigH\">jai shree</a><a class=\"TwVfHd\" href=\"/search?sca_esv=575601661&amp;biw=1536&amp;bih=739&amp;ie=UTF-8&amp;tbm=isch&amp;q=Lord+Rama+laptop+wallpaper+images&amp;chips=q:lord+rama+laptop+wallpaper+images,online_chips:jai+shri&amp;sa=X&amp;ved=0ahUKEwiOoaih9ImCAxW2k1YBHbThDjMQ4lYIEygI\">jai shri</a><a class=\"TwVfHd\" href=\"/search?sca_esv=575601661&amp;biw=1536&amp;bih=739&amp;ie=UTF-8&amp;tbm=isch&amp;q=Lord+Rama+laptop+wallpaper+images&amp;chips=q:lord+rama+laptop+wallpaper+images,online_chips:hindu+god&amp;sa=X&amp;ved=0ahUKEwiOoaih9ImCAxW2k1YBHbThDjMQ4lYIFCgJ\">hindu god</a></div><div><table class=\"GpQGbf\"><tr><td align=\"center\" class=\"e3goi\"><div class=\"jjVJ4e\"> <div> <div class=\"lIMUZd\"><div><table class=\"RntSmf\"><tr><td><a href=\"/url?q=https://www.peakpx.com/en/search%3Fq%3Dlord%2Brama&amp;sa=U&amp;ved=2ahUKEwiOoaih9ImCAxW2k1YBHbThDjMQqoUBegQIARAB&amp;usg=AOvVaw0WpIP5cbN7YzeByaaBxPDe\"><div class=\"kCmkOe\"><img alt=\"\" class=\"DS1iW\" src=\"https://encrypted-tbn0.gstatic.com/images?q=tbn:ANd9GcRwTHJOet12n-uurMydUWTjaZ8xlkjV7SdZw_b8B3VRmpBT5SCAFNby8BatSaU&amp;s\"/></div></a></td></tr><tr><td><a href=\"/url?q=https://www.peakpx.com/en/search%3Fq%3Dlord%2Brama&amp;sa=U&amp;ved=2ahUKEwiOoaih9ImCAxW2k1YBHbThDjMQr4kDegQIARAC&amp;usg=AOvVaw2U_cPcmsVeEwvjnlfl0QjL\"><div class=\"AlD19d\"> <span class=\"qXLe6d x3G5ab\"> <span class=\"fYyStc\">HD lord rama wallpapers |...</span> </span> <span class=\"qXLe6d F9iS2e\"> <span class=\"fYyStc\">www.peakpx.com</span> </span> </div></a></td></tr></table></div></div> </div> </div></td><td align=\"center\" class=\"e3goi\"><div class=\"jjVJ4e\"> <div> <div class=\"lIMUZd\"><div><table class=\"RntSmf\"><tr><td><a href=\"/url?q=https://www.pinterest.com/pin/293648838195368441/&amp;sa=U&amp;ved=2ahUKEwiOoaih9ImCAxW2k1YBHbThDjMQqoUBegQIExAB&amp;usg=AOvVaw2p3XisVdqtxSn0c88yYGmu\"><div class=\"kCmkOe\"><img alt=\"\" class=\"DS1iW\" src=\"https://encrypted-tbn0.gstatic.com/images?q=tbn:ANd9GcSV2wj0pPQHljkoknlW4Won3gEKYHkXe8q4SnU0oLvx99NYRR2dkR9ejAUXhBA&amp;s\"/></div></a></td></tr><tr><td><a href=\"/url?q=https://www.pinterest.com/pin/293648838195368441/&amp;sa=U&amp;ved=2ahUKEwiOoaih9ImCAxW2k1YBHbThDjMQr4kDegQIExAC&amp;usg=AOvVaw1odUByjGgUqUTLNxuPhVVI\"><div class=\"AlD19d\"> <span class=\"qXLe6d x3G5ab\"> <span class=\"fYyStc\">Shree Ram Pictures &amp; Images...</span> </span> <span class=\"qXLe6d F9iS2e\"> <span class=\"fYyStc\">www.pinterest.com</span> </span> </div></a></td></tr></table></div></div> </div> </div></td><td align=\"center\" class=\"e3goi\"><div class=\"jjVJ4e\"> <div> <div class=\"lIMUZd\"><div><table class=\"RntSmf\"><tr><td><a href=\"/url?q=https://wallpapers.com/jai-shree-ram-hd&amp;sa=U&amp;ved=2ahUKEwiOoaih9ImCAxW2k1YBHbThDjMQqoUBegQIEhAB&amp;usg=AOvVaw3-BwAlgrmyLLGxKrMM7iOz\"><div class=\"kCmkOe\"><img alt=\"\" class=\"DS1iW\" src=\"https://encrypted-tbn0.gstatic.com/images?q=tbn:ANd9GcQd2A57q9BIVtptZeHZG5ooyHvEG9ieOlPLM6tGEflU6CImocbJOCyKzkLKp5k&amp;s\"/></div></a></td></tr><tr><td><a href=\"/url?q=https://wallpapers.com/jai-shree-ram-hd&amp;sa=U&amp;ved=2ahUKEwiOoaih9ImCAxW2k1YBHbThDjMQr4kDegQIEhAC&amp;usg=AOvVaw0YRfbsR9sSReqcvk54aaXD\"><div class=\"AlD19d\"> <span class=\"qXLe6d x3G5ab\"> <span class=\"fYyStc\">100+] Jai Shree Ram Hd...</span> </span> <span class=\"qXLe6d F9iS2e\"> <span class=\"fYyStc\">wallpapers.com</span> </span> </div></a></td></tr></table></div></div> </div> </div></td><td align=\"center\" class=\"e3goi\"><div class=\"jjVJ4e\"> <div> <div class=\"lIMUZd\"><div><table class=\"RntSmf\"><tr><td><a href=\"/url?q=https://www.wallpaperflare.com/lord-shree-ram-shiva-illustration-god-lord-ram-hindu-clothing-wallpaper-miexi&amp;sa=U&amp;ved=2ahUKEwiOoaih9ImCAxW2k1YBHbThDjMQqoUBegQIERAB&amp;usg=AOvVaw2D3VzhgOVwr_Ygus8eDisf\"><div class=\"kCmkOe\"><img alt=\"\" class=\"DS1iW\" src=\"https://encrypted-tbn0.gstatic.com/images?q=tbn:ANd9GcT-1zBpyLnnW20zYox_2Thad-mP_lGhV65gIHus53vA7eEWJbb7N_SexKqGOQ&amp;s\"/></div></a></td></tr><tr><td><a href=\"/url?q=https://www.wallpaperflare.com/lord-shree-ram-shiva-illustration-god-lord-ram-hindu-clothing-wallpaper-miexi&amp;sa=U&amp;ved=2ahUKEwiOoaih9ImCAxW2k1YBHbThDjMQr4kDegQIERAC&amp;usg=AOvVaw0alKZc8li1YAmDzEd1plsY\"><div class=\"AlD19d\"> <span class=\"qXLe6d x3G5ab\"> <span class=\"fYyStc\">HD wallpaper: Lord Shree...</span> </span> <span class=\"qXLe6d F9iS2e\"> <span class=\"fYyStc\">www.wallpaperflare.com</span> </span> </div></a></td></tr></table></div></div> </div> </div></td></tr><tr><td align=\"center\" class=\"e3goi\"><div class=\"jjVJ4e\"> <div> <div class=\"lIMUZd\"><div><table class=\"RntSmf\"><tr><td><a href=\"/url?q=https://in.pinterest.com/pin/679058450057827200/&amp;sa=U&amp;ved=2ahUKEwiOoaih9ImCAxW2k1YBHbThDjMQqoUBegQIEBAB&amp;usg=AOvVaw3yvl3W-CavwgirF52tAiBI\"><div class=\"kCmkOe\"><img alt=\"\" class=\"DS1iW\" src=\"https://encrypted-tbn0.gstatic.com/images?q=tbn:ANd9GcT4f6Dknhz2Cj-7VxKtMnrTxK1JAv6zxLpZJmG8yV6V2rHY4GzBMpS8_OhSLTs&amp;s\"/></div></a></td></tr><tr><td><a href=\"/url?q=https://in.pinterest.com/pin/679058450057827200/&amp;sa=U&amp;ved=2ahUKEwiOoaih9ImCAxW2k1YBHbThDjMQr4kDegQIEBAC&amp;usg=AOvVaw3fRb6S-B1ZOtCNx1QUSfkL\"><div class=\"AlD19d\"> <span class=\"qXLe6d x3G5ab\"> <span class=\"fYyStc\">Lord Rama Hd Images...</span> </span> <span class=\"qXLe6d F9iS2e\"> <span class=\"fYyStc\">in.pinterest.com</span> </span> </div></a></td></tr></table></div></div> </div> </div></td><td align=\"center\" class=\"e3goi\"><div class=\"jjVJ4e\"> <div> <div class=\"lIMUZd\"><div><table class=\"RntSmf\"><tr><td><a href=\"/url?q=https://wallpapercave.com/lord-rama-computer-wallpapers&amp;sa=U&amp;ved=2ahUKEwiOoaih9ImCAxW2k1YBHbThDjMQqoUBegQIDxAB&amp;usg=AOvVaw1Z8XNYLXXvZglh_mjC-2ji\"><div class=\"kCmkOe\"><img alt=\"\" class=\"DS1iW\" src=\"https://encrypted-tbn0.gstatic.com/images?q=tbn:ANd9GcQIqe9DXrLxOhYsckhO3c5cl_wqls3LWo1oMOSUZDGInlm9CjdSO0Z9Z4URL48&amp;s\"/></div></a></td></tr><tr><td><a href=\"/url?q=https://wallpapercave.com/lord-rama-computer-wallpapers&amp;sa=U&amp;ved=2ahUKEwiOoaih9ImCAxW2k1YBHbThDjMQr4kDegQIDxAC&amp;usg=AOvVaw1gT32P809oM4P4wAHWmh0h\"><div class=\"AlD19d\"> <span class=\"qXLe6d x3G5ab\"> <span class=\"fYyStc\">Lord Rama Computer...</span> </span> <span class=\"qXLe6d F9iS2e\"> <span class=\"fYyStc\">wallpapercave.com</span> </span> </div></a></td></tr></table></div></div> </div> </div></td><td align=\"center\" class=\"e3goi\"><div class=\"jjVJ4e\"> <div> <div class=\"lIMUZd\"><div><table class=\"RntSmf\"><tr><td><a href=\"/url?q=https://in.pinterest.com/pin/293648838195507020/&amp;sa=U&amp;ved=2ahUKEwiOoaih9ImCAxW2k1YBHbThDjMQqoUBegQICRAB&amp;usg=AOvVaw2zzgDSVPJsndB44OUAbgdN\"><div class=\"kCmkOe\"><img alt=\"\" class=\"DS1iW\" src=\"https://encrypted-tbn0.gstatic.com/images?q=tbn:ANd9GcQvQ9FtjfBXOlFrAX9-7bDz8QQViDD3MUygaKgSnyY6PbFq7Ruvztnod3qIloM&amp;s\"/></div></a></td></tr><tr><td><a href=\"/url?q=https://in.pinterest.com/pin/293648838195507020/&amp;sa=U&amp;ved=2ahUKEwiOoaih9ImCAxW2k1YBHbThDjMQr4kDegQICRAC&amp;usg=AOvVaw2uZyIzbCXaiRqzZhPxyr4D\"><div class=\"AlD19d\"> <span class=\"qXLe6d x3G5ab\"> <span class=\"fYyStc\">Ram ji image &amp;amp;...</span> </span> <span class=\"qXLe6d F9iS2e\"> <span class=\"fYyStc\">in.pinterest.com</span> </span> </div></a></td></tr></table></div></div> </div> </div></td><td align=\"center\" class=\"e3goi\"><div class=\"jjVJ4e\"> <div> <div class=\"lIMUZd\"><div><table class=\"RntSmf\"><tr><td><a href=\"/url?q=https://www.peakpx.com/en/hd-wallpaper-desktop-asqeb&amp;sa=U&amp;ved=2ahUKEwiOoaih9ImCAxW2k1YBHbThDjMQqoUBegQIChAB&amp;usg=AOvVaw1ONEcoNC4H24U6xvGPPLiv\"><div class=\"kCmkOe\"><img alt=\"\" class=\"DS1iW\" src=\"https://encrypted-tbn0.gstatic.com/images?q=tbn:ANd9GcS8W1HrI08AzS0gTgyzp1wweQ2kBw8bTv_Ayx3ko2cTe7Yi5GK4mR7NCR1FhA&amp;s\"/></div></a></td></tr><tr><td><a href=\"/url?q=https://www.peakpx.com/en/hd-wallpaper-desktop-asqeb&amp;sa=U&amp;ved=2ahUKEwiOoaih9ImCAxW2k1YBHbThDjMQr4kDegQIChAC&amp;usg=AOvVaw02GiK3wZttBmTjiJeZ1K4U\"><div class=\"AlD19d\"> <span class=\"qXLe6d x3G5ab\"> <span class=\"fYyStc\">Lord Rama Paintings, HD...</span> </span> <span class=\"qXLe6d F9iS2e\"> <span class=\"fYyStc\">www.peakpx.com</span> </span> </div></a></td></tr></table></div></div> </div> </div></td></tr><tr><td align=\"center\" class=\"e3goi\"><div class=\"jjVJ4e\"> <div> <div class=\"lIMUZd\"><div><table class=\"RntSmf\"><tr><td><a href=\"/url?q=https://www.wallpaperflare.com/search%3Fwallpaper%3Dlord%2Bram&amp;sa=U&amp;ved=2ahUKEwiOoaih9ImCAxW2k1YBHbThDjMQqoUBegQIDBAB&amp;usg=AOvVaw3rPxFq4YxQeY8eOHneS1kH\"><div class=\"kCmkOe\"><img alt=\"\" class=\"DS1iW\" src=\"https://encrypted-tbn0.gstatic.com/images?q=tbn:ANd9GcTfJ9TZjdg70QxOwzSxUbhcykbEiSwakqBuaQyH9-IWeOMwUwWoa56r_rMD5bc&amp;s\"/></div></a></td></tr><tr><td><a href=\"/url?q=https://www.wallpaperflare.com/search%3Fwallpaper%3Dlord%2Bram&amp;sa=U&amp;ved=2ahUKEwiOoaih9ImCAxW2k1YBHbThDjMQr4kDegQIDBAC&amp;usg=AOvVaw3meATZnkDwGqvfgiwBu5SY\"><div class=\"AlD19d\"> <span class=\"qXLe6d x3G5ab\"> <span class=\"fYyStc\">Lord ram 1080P, 2K, 4K, 5K...</span> </span> <span class=\"qXLe6d F9iS2e\"> <span class=\"fYyStc\">www.wallpaperflare.com</span> </span> </div></a></td></tr></table></div></div> </div> </div></td><td align=\"center\" class=\"e3goi\"><div class=\"jjVJ4e\"> <div> <div class=\"lIMUZd\"><div><table class=\"RntSmf\"><tr><td><a href=\"/url?q=https://www.hdnicewallpapers.com/Wallpaper-Download/God-and-Lord/Lord-Rama&amp;sa=U&amp;ved=2ahUKEwiOoaih9ImCAxW2k1YBHbThDjMQqoUBegQIDhAB&amp;usg=AOvVaw3Yx4GtVcQyVIPMgr5ELnXh\"><div class=\"kCmkOe\"><img alt=\"\" class=\"DS1iW\" src=\"https://encrypted-tbn0.gstatic.com/images?q=tbn:ANd9GcQJ4-rOs5Ddk89RrSRGKXlAj_yMO33aVEnNUPB-1IGVnBfbv8mr_WLMe76PVQ&amp;s\"/></div></a></td></tr><tr><td><a href=\"/url?q=https://www.hdnicewallpapers.com/Wallpaper-Download/God-and-Lord/Lord-Rama&amp;sa=U&amp;ved=2ahUKEwiOoaih9ImCAxW2k1YBHbThDjMQr4kDegQIDhAC&amp;usg=AOvVaw3MIUhlnOsfRI25IYiUe-ew\"><div class=\"AlD19d\"> <span class=\"qXLe6d x3G5ab\"> <span class=\"fYyStc\">Lord Rama | HD Wallpapers</span> </span> <span class=\"qXLe6d F9iS2e\"> <span class=\"fYyStc\">www.hdnicewallpapers.com</span> </span> </div></a></td></tr></table></div></div> </div> </div></td><td align=\"center\" class=\"e3goi\"><div class=\"jjVJ4e\"> <div> <div class=\"lIMUZd\"><div><table class=\"RntSmf\"><tr><td><a href=\"/url?q=https://www.flipkart.com/lord-ram-poster-fine-art-paper-hd-quality-wallpaper-print/p/itm25fe0b135a02e&amp;sa=U&amp;ved=2ahUKEwiOoaih9ImCAxW2k1YBHbThDjMQqoUBegQIDRAB&amp;usg=AOvVaw1v7kqW-CFr0jUs8yk57H0a\"><div class=\"kCmkOe\"><img alt=\"\" class=\"DS1iW\" src=\"https://encrypted-tbn0.gstatic.com/images?q=tbn:ANd9GcRxY8b6TqC7iNdO7cJUk8wzRUFzE6yrg2YX3juhImysabgk7yIVTHAd7JOrvg&amp;s\"/></div></a></td></tr><tr><td><a href=\"/url?q=https://www.flipkart.com/lord-ram-poster-fine-art-paper-hd-quality-wallpaper-print/p/itm25fe0b135a02e&amp;sa=U&amp;ved=2ahUKEwiOoaih9ImCAxW2k1YBHbThDjMQr4kDegQIDRAC&amp;usg=AOvVaw0IydbLrzlgWjvc6UFJi-CJ\"><div class=\"AlD19d\"> <span class=\"qXLe6d x3G5ab\"> <span class=\"fYyStc\">Lord Ram Poster ON FINE ART...</span> </span> <span class=\"qXLe6d F9iS2e\"> <span class=\"fYyStc\">www.flipkart.com</span> </span> </div></a></td></tr></table></div></div> </div> </div></td><td align=\"center\" class=\"e3goi\"><div class=\"jjVJ4e\"> <div> <div class=\"lIMUZd\"><div><table class=\"RntSmf\"><tr><td><a href=\"/url?q=https://wallpapers.com/ram-ji&amp;sa=U&amp;ved=2ahUKEwiOoaih9ImCAxW2k1YBHbThDjMQqoUBegQICxAB&amp;usg=AOvVaw3pq1LElYF7gPfZ7VqDkjQk\"><div class=\"kCmkOe\"><img alt=\"\" class=\"DS1iW\" src=\"https://encrypted-tbn0.gstatic.com/images?q=tbn:ANd9GcQwttiwYS9R6LKFTeM3bYhd3GYgKbwLkZv-csKPgI_p5Nyl9b29I68vohoaTwY&amp;s\"/></div></a></td></tr><tr><td><a href=\"/url?q=https://wallpapers.com/ram-ji&amp;sa=U&amp;ved=2ahUKEwiOoaih9ImCAxW2k1YBHbThDjMQr4kDegQICxAC&amp;usg=AOvVaw3MVm3lj66OrDukF_lZlWBI\"><div class=\"AlD19d\"> <span class=\"qXLe6d x3G5ab\"> <span class=\"fYyStc\">100+] Ram Ji Wallpapers |...</span> </span> <span class=\"qXLe6d F9iS2e\"> <span class=\"fYyStc\">wallpapers.com</span> </span> </div></a></td></tr></table></div></div> </div> </div></td></tr><tr><td align=\"center\" class=\"e3goi\"><div class=\"jjVJ4e\"> <div> <div class=\"lIMUZd\"><div><table class=\"RntSmf\"><tr><td><a href=\"/url?q=https://www.peakpx.com/en/hd-wallpaper-desktop-asmdx&amp;sa=U&amp;ved=2ahUKEwiOoaih9ImCAxW2k1YBHbThDjMQqoUBegQIAhAB&amp;usg=AOvVaw0sd1ahFM55aF7vrSsmWFTV\"><div class=\"kCmkOe\"><img alt=\"\" class=\"DS1iW\" src=\"https://encrypted-tbn0.gstatic.com/images?q=tbn:ANd9GcTOfdomYK3mBZrdnneTFyjH8Exw1l0psD44q7fpTN8srLcSRrsDU7Wf2kuCjQ&amp;s\"/></div></a></td></tr><tr><td><a href=\"/url?q=https://www.peakpx.com/en/hd-wallpaper-desktop-asmdx&amp;sa=U&amp;ved=2ahUKEwiOoaih9ImCAxW2k1YBHbThDjMQr4kDegQIAhAC&amp;usg=AOvVaw3J2PBosfgH0uEEr5xzX5Va\"><div class=\"AlD19d\"> <span class=\"qXLe6d x3G5ab\"> <span class=\"fYyStc\">Warrior Lord Ram, HD...</span> </span> <span class=\"qXLe6d F9iS2e\"> <span class=\"fYyStc\">www.peakpx.com</span> </span> </div></a></td></tr></table></div></div> </div> </div></td><td align=\"center\" class=\"e3goi\"><div class=\"jjVJ4e\"> <div> <div class=\"lIMUZd\"><div><table class=\"RntSmf\"><tr><td><a href=\"/url?q=https://mobcup.net/wallpapers/shree-ram-4k&amp;sa=U&amp;ved=2ahUKEwiOoaih9ImCAxW2k1YBHbThDjMQqoUBegQIBBAB&amp;usg=AOvVaw02pZ7x0zo-2FnkqchhfHdP\"><div class=\"kCmkOe\"><img alt=\"\" class=\"DS1iW\" src=\"https://encrypted-tbn0.gstatic.com/images?q=tbn:ANd9GcQOG5ZJy5446MeHZwWWN1ETIWVwCizraZJcDyhpbVFftWLol__03pqgHZE9Vck&amp;s\"/></div></a></td></tr><tr><td><a href=\"/url?q=https://mobcup.net/wallpapers/shree-ram-4k&amp;sa=U&amp;ved=2ahUKEwiOoaih9ImCAxW2k1YBHbThDjMQr4kDegQIBBAC&amp;usg=AOvVaw0ST0gzsEC_BsthE-VTh4fn\"><div class=\"AlD19d\"> <span class=\"qXLe6d x3G5ab\"> <span class=\"fYyStc\">Shree ram 4k Wallpapers...</span> </span> <span class=\"qXLe6d F9iS2e\"> <span class=\"fYyStc\">mobcup.net</span> </span> </div></a></td></tr></table></div></div> </div> </div></td><td align=\"center\" class=\"e3goi\"><div class=\"jjVJ4e\"> <div> <div class=\"lIMUZd\"><div><table class=\"RntSmf\"><tr><td><a href=\"/url?q=https://www.pxfuel.com/en/desktop-wallpaper-fibga&amp;sa=U&amp;ved=2ahUKEwiOoaih9ImCAxW2k1YBHbThDjMQqoUBegQIAxAB&amp;usg=AOvVaw0WTj9Oc08yftlXCaKcKwAW\"><div class=\"kCmkOe\"><img alt=\"\" class=\"DS1iW\" src=\"https://encrypted-tbn0.gstatic.com/images?q=tbn:ANd9GcTIbY4GFBmB3J36YPEaeCFM4ILykIP6jCbHDEtWesR-6IfF48z01XF0rsX8pg&amp;s\"/></div></a></td></tr><tr><td><a href=\"/url?q=https://www.pxfuel.com/en/desktop-wallpaper-fibga&amp;sa=U&amp;ved=2ahUKEwiOoaih9ImCAxW2k1YBHbThDjMQr4kDegQIAxAC&amp;usg=AOvVaw1T3NdPsIzXY9hkToCUyXLJ\"><div class=\"AlD19d\"> <span class=\"qXLe6d x3G5ab\"> <span class=\"fYyStc\">Top 10 Lord Shri Ram HD...</span> </span> <span class=\"qXLe6d F9iS2e\"> <span class=\"fYyStc\">www.pxfuel.com</span> </span> </div></a></td></tr></table></div></div> </div> </div></td><td align=\"center\" class=\"e3goi\"><div class=\"jjVJ4e\"> <div> <div class=\"lIMUZd\"><div><table class=\"RntSmf\"><tr><td><a href=\"/url?q=https://www.wallpaperflare.com/lord-rama-worship-of-lord-shiva-lord-krishna-and-radha-painting-wallpaper-pnoqh&amp;sa=U&amp;ved=2ahUKEwiOoaih9ImCAxW2k1YBHbThDjMQqoUBegQIABAB&amp;usg=AOvVaw1fmfrQYwNLQ1r-jWhmrXVa\"><div class=\"kCmkOe\"><img alt=\"\" class=\"DS1iW\" src=\"https://encrypted-tbn0.gstatic.com/images?q=tbn:ANd9GcSYI7eZDQOL3SuSJ1cp-sGbx3JyTLXSMr0_9VSDKkb0y5bAf7k2XTfDLS4jyvY&amp;s\"/></div></a></td></tr><tr><td><a href=\"/url?q=https://www.wallpaperflare.com/lord-rama-worship-of-lord-shiva-lord-krishna-and-radha-painting-wallpaper-pnoqh&amp;sa=U&amp;ved=2ahUKEwiOoaih9ImCAxW2k1YBHbThDjMQr4kDegQIABAC&amp;usg=AOvVaw3YISqyUb-Oktle1lPv9GcA\"><div class=\"AlD19d\"> <span class=\"qXLe6d x3G5ab\"> <span class=\"fYyStc\">HD wallpaper: Lord Rama...</span> </span> <span class=\"qXLe6d F9iS2e\"> <span class=\"fYyStc\">www.wallpaperflare.com</span> </span> </div></a></td></tr></table></div></div> </div> </div></td></tr><tr><td align=\"center\" class=\"e3goi\"><div class=\"jjVJ4e\"> <div> <div class=\"lIMUZd\"><div><table class=\"RntSmf\"><tr><td><a href=\"/url?q=https://www.pinterest.com/pin/794111346783769271/&amp;sa=U&amp;ved=2ahUKEwiOoaih9ImCAxW2k1YBHbThDjMQqoUBegQIBhAB&amp;usg=AOvVaw07PZeoYFvBZUwQlJQDClxw\"><div class=\"kCmkOe\"><img alt=\"\" class=\"DS1iW\" src=\"https://encrypted-tbn0.gstatic.com/images?q=tbn:ANd9GcR7OarDc3qD-4cLhHXyNTklLK-QqT0nf7glDWL1a1bMNBn4jNnb-1l3VnmK1cE&amp;s\"/></div></a></td></tr><tr><td><a href=\"/url?q=https://www.pinterest.com/pin/794111346783769271/&amp;sa=U&amp;ved=2ahUKEwiOoaih9ImCAxW2k1YBHbThDjMQr4kDegQIBhAC&amp;usg=AOvVaw0WsOmONLjDCn0AHwHaM9l0\"><div class=\"AlD19d\"> <span class=\"qXLe6d x3G5ab\"> <span class=\"fYyStc\">3d Wallpaper Ram 1366×768 |...</span> </span> <span class=\"qXLe6d F9iS2e\"> <span class=\"fYyStc\">www.pinterest.com</span> </span> </div></a></td></tr></table></div></div> </div> </div></td><td align=\"center\" class=\"e3goi\"><div class=\"jjVJ4e\"> <div> <div class=\"lIMUZd\"><div><table class=\"RntSmf\"><tr><td><a href=\"/url?q=https://www.divyatattva.in/2023/03/lord-rama-sita-4k-hd-wallpapers-for-pc.html&amp;sa=U&amp;ved=2ahUKEwiOoaih9ImCAxW2k1YBHbThDjMQqoUBegQIBxAB&amp;usg=AOvVaw1EMHhe1t7dv6djwufXMw-d\"><div class=\"kCmkOe\"><img alt=\"\" class=\"DS1iW\" src=\"https://encrypted-tbn0.gstatic.com/images?q=tbn:ANd9GcS-2Y2NaHx3ItabHQaHkl7_GIRKkUNYJe3J7rdoXMXTnbg-I4w73-t-zlIANw&amp;s\"/></div></a></td></tr><tr><td><a href=\"/url?q=https://www.divyatattva.in/2023/03/lord-rama-sita-4k-hd-wallpapers-for-pc.html&amp;sa=U&amp;ved=2ahUKEwiOoaih9ImCAxW2k1YBHbThDjMQr4kDegQIBxAC&amp;usg=AOvVaw374kaqJ9xkjD1gb6ETlvUE\"><div class=\"AlD19d\"> <span class=\"qXLe6d x3G5ab\"> <span class=\"fYyStc\">Lord Rama Sita 4k HD...</span> </span> <span class=\"qXLe6d F9iS2e\"> <span class=\"fYyStc\">www.divyatattva.in</span> </span> </div></a></td></tr></table></div></div> </div> </div></td><td align=\"center\" class=\"e3goi\"><div class=\"jjVJ4e\"> <div> <div class=\"lIMUZd\"><div><table class=\"RntSmf\"><tr><td><a href=\"/url?q=https://www.astrosage.com/wallpapers/ram-wallpaper.asp&amp;sa=U&amp;ved=2ahUKEwiOoaih9ImCAxW2k1YBHbThDjMQqoUBegQIBRAB&amp;usg=AOvVaw3dNhr5O-JSGir9hVuCQjbv\"><div class=\"kCmkOe\"><img alt=\"\" class=\"DS1iW\" src=\"https://encrypted-tbn0.gstatic.com/images?q=tbn:ANd9GcRrTd7_DMIoovYLtc4p5a1A9LpNLUTz7lM-dz4nCsFXalUWT9mJBpYWkSiJxQ&amp;s\"/></div></a></td></tr><tr><td><a href=\"/url?q=https://www.astrosage.com/wallpapers/ram-wallpaper.asp&amp;sa=U&amp;ved=2ahUKEwiOoaih9ImCAxW2k1YBHbThDjMQr4kDegQIBRAC&amp;usg=AOvVaw0sQ-8GWCXZuBQsUFdaEPyQ\"><div class=\"AlD19d\"> <span class=\"qXLe6d x3G5ab\"> <span class=\"fYyStc\">Ram Wallpaper | Wallpaper...</span> </span> <span class=\"qXLe6d F9iS2e\"> <span class=\"fYyStc\">www.astrosage.com</span> </span> </div></a></td></tr></table></div></div> </div> </div></td><td align=\"center\" class=\"e3goi\"><div class=\"jjVJ4e\"> <div> <div class=\"lIMUZd\"><div><table class=\"RntSmf\"><tr><td><a href=\"/url?q=https://www.hdnicewallpapers.com/Wallpaper-Download/God-and-Lord/God-Rama&amp;sa=U&amp;ved=2ahUKEwiOoaih9ImCAxW2k1YBHbThDjMQqoUBegQICBAB&amp;usg=AOvVaw3pg1Iy71TVZBC-2O8TSrsF\"><div class=\"kCmkOe\"><img alt=\"\" class=\"DS1iW\" src=\"https://encrypted-tbn0.gstatic.com/images?q=tbn:ANd9GcQsbKv02dtGidsh9QPKuyXsi_TfoZEelpPsjPKMzw0k8eQzZpbRsWOUfJ0d7g&amp;s\"/></div></a></td></tr><tr><td><a href=\"/url?q=https://www.hdnicewallpapers.com/Wallpaper-Download/God-and-Lord/God-Rama&amp;sa=U&amp;ved=2ahUKEwiOoaih9ImCAxW2k1YBHbThDjMQr4kDegQICBAC&amp;usg=AOvVaw2eUJ0-Hv8onoJdvKEZGZnA\"><div class=\"AlD19d\"> <span class=\"qXLe6d x3G5ab\"> <span class=\"fYyStc\">God Rama | HD Wallpapers</span> </span> <span class=\"qXLe6d F9iS2e\"> <span class=\"fYyStc\">www.hdnicewallpapers.com</span> </span> </div></a></td></tr></table></div></div> </div> </div></td></tr></table></div><table class=\"uZgmoc\"><tbody><td><a class=\"frGj1b\" href=\"/search?q=Lord+Rama+laptop+wallpaper+images&amp;sca_esv=575601661&amp;biw=1536&amp;bih=739&amp;ie=UTF-8&amp;tbm=isch&amp;ei=Xzc1Zc71Eran2roPtMO7mAM&amp;start=20&amp;sa=N\">Next &gt;</a></td></tbody></table><br/><div class=\"TuS8Ad\" data-ved=\"0ahUKEwiOoaih9ImCAxW2k1YBHbThDjMQpyoIUg\"><style>.VYM29{font-weight:bold}</style><div align=\"center\" class=\"HddGcc\"><span class=\"VYM29\">110063, Delhi</span><span> - </span><span>From your IP address</span><span> - </span><a href=\"/url?q=https://support.google.com/websearch%3Fp%3Dws_settings_location%26hl%3Den-IN&amp;opi=89978449&amp;sa=U&amp;ved=0ahUKEwiOoaih9ImCAxW2k1YBHbThDjMQty4IUw&amp;usg=AOvVaw3P4Dm9_pleScwruZEx0_Qr\">Learn more</a></div><div align=\"center\"><a class=\"rEM8G\" href=\"/url?q=https://accounts.google.com/ServiceLogin%3Fcontinue%3Dhttps://www.google.co.in/search%253Fq%253DLord%252BRama%252Blaptop%252Bwallpaper%252Bimages%2526sca_esv%253D575601661%2526tbm%253Disch%2526source%253Dlnms%2526sa%253DX%2526ved%253D2ahUKEwjl-56U34mCAxU62TgGHZ62AWwQ_AUoAnoECAEQBA%2526biw%253D1536%2526bih%253D739%2526dpr%253D1.25%26hl%3Den&amp;opi=89978449&amp;sa=U&amp;ved=0ahUKEwiOoaih9ImCAxW2k1YBHbThDjMQxs8CCFQ&amp;usg=AOvVaw2q-b_O4NCEpjos9rtihENG\">Sign in</a></div><div><table class=\"bookcf\"><tbody class=\"InWNIe\"><tr><td><a class=\"rEM8G\" href=\"https://www.google.co.in/preferences?hl=en&amp;sa=X&amp;ved=0ahUKEwiOoaih9ImCAxW2k1YBHbThDjMQv5YECFU\">Settings</a></td><td><a class=\"rEM8G\" href=\"https://www.google.co.in/intl/en_in/policies/privacy/\">Privacy</a></td><td><a class=\"rEM8G\" href=\"https://www.google.co.in/intl/en_in/policies/terms/\">Terms</a></td></tr></tbody></table></div></div><div> </div></body></html>"
      ]
     },
     "execution_count": 77,
     "metadata": {},
     "output_type": "execute_result"
    }
   ],
   "source": [
    "soup"
   ]
  },
  {
   "cell_type": "code",
   "execution_count": 78,
   "id": "033ba313-b1db-4dd1-ba95-5c5fc8380e9b",
   "metadata": {},
   "outputs": [],
   "source": [
    "image_tags=soup.find_all(\"img\")"
   ]
  },
  {
   "cell_type": "code",
   "execution_count": 79,
   "id": "363f3c14-0227-421d-a438-accb10034209",
   "metadata": {},
   "outputs": [
    {
     "data": {
      "text/plain": [
       "[<img alt=\"Google\" class=\"kgJEQe\" src=\"/images/branding/searchlogo/1x/googlelogo_desk_heirloom_color_150x55dp.gif\"/>,\n",
       " <img alt=\"\" class=\"DS1iW\" src=\"https://encrypted-tbn0.gstatic.com/images?q=tbn:ANd9GcRwTHJOet12n-uurMydUWTjaZ8xlkjV7SdZw_b8B3VRmpBT5SCAFNby8BatSaU&amp;s\"/>,\n",
       " <img alt=\"\" class=\"DS1iW\" src=\"https://encrypted-tbn0.gstatic.com/images?q=tbn:ANd9GcSV2wj0pPQHljkoknlW4Won3gEKYHkXe8q4SnU0oLvx99NYRR2dkR9ejAUXhBA&amp;s\"/>,\n",
       " <img alt=\"\" class=\"DS1iW\" src=\"https://encrypted-tbn0.gstatic.com/images?q=tbn:ANd9GcQd2A57q9BIVtptZeHZG5ooyHvEG9ieOlPLM6tGEflU6CImocbJOCyKzkLKp5k&amp;s\"/>,\n",
       " <img alt=\"\" class=\"DS1iW\" src=\"https://encrypted-tbn0.gstatic.com/images?q=tbn:ANd9GcT-1zBpyLnnW20zYox_2Thad-mP_lGhV65gIHus53vA7eEWJbb7N_SexKqGOQ&amp;s\"/>,\n",
       " <img alt=\"\" class=\"DS1iW\" src=\"https://encrypted-tbn0.gstatic.com/images?q=tbn:ANd9GcT4f6Dknhz2Cj-7VxKtMnrTxK1JAv6zxLpZJmG8yV6V2rHY4GzBMpS8_OhSLTs&amp;s\"/>,\n",
       " <img alt=\"\" class=\"DS1iW\" src=\"https://encrypted-tbn0.gstatic.com/images?q=tbn:ANd9GcQIqe9DXrLxOhYsckhO3c5cl_wqls3LWo1oMOSUZDGInlm9CjdSO0Z9Z4URL48&amp;s\"/>,\n",
       " <img alt=\"\" class=\"DS1iW\" src=\"https://encrypted-tbn0.gstatic.com/images?q=tbn:ANd9GcQvQ9FtjfBXOlFrAX9-7bDz8QQViDD3MUygaKgSnyY6PbFq7Ruvztnod3qIloM&amp;s\"/>,\n",
       " <img alt=\"\" class=\"DS1iW\" src=\"https://encrypted-tbn0.gstatic.com/images?q=tbn:ANd9GcS8W1HrI08AzS0gTgyzp1wweQ2kBw8bTv_Ayx3ko2cTe7Yi5GK4mR7NCR1FhA&amp;s\"/>,\n",
       " <img alt=\"\" class=\"DS1iW\" src=\"https://encrypted-tbn0.gstatic.com/images?q=tbn:ANd9GcTfJ9TZjdg70QxOwzSxUbhcykbEiSwakqBuaQyH9-IWeOMwUwWoa56r_rMD5bc&amp;s\"/>,\n",
       " <img alt=\"\" class=\"DS1iW\" src=\"https://encrypted-tbn0.gstatic.com/images?q=tbn:ANd9GcQJ4-rOs5Ddk89RrSRGKXlAj_yMO33aVEnNUPB-1IGVnBfbv8mr_WLMe76PVQ&amp;s\"/>,\n",
       " <img alt=\"\" class=\"DS1iW\" src=\"https://encrypted-tbn0.gstatic.com/images?q=tbn:ANd9GcRxY8b6TqC7iNdO7cJUk8wzRUFzE6yrg2YX3juhImysabgk7yIVTHAd7JOrvg&amp;s\"/>,\n",
       " <img alt=\"\" class=\"DS1iW\" src=\"https://encrypted-tbn0.gstatic.com/images?q=tbn:ANd9GcQwttiwYS9R6LKFTeM3bYhd3GYgKbwLkZv-csKPgI_p5Nyl9b29I68vohoaTwY&amp;s\"/>,\n",
       " <img alt=\"\" class=\"DS1iW\" src=\"https://encrypted-tbn0.gstatic.com/images?q=tbn:ANd9GcTOfdomYK3mBZrdnneTFyjH8Exw1l0psD44q7fpTN8srLcSRrsDU7Wf2kuCjQ&amp;s\"/>,\n",
       " <img alt=\"\" class=\"DS1iW\" src=\"https://encrypted-tbn0.gstatic.com/images?q=tbn:ANd9GcQOG5ZJy5446MeHZwWWN1ETIWVwCizraZJcDyhpbVFftWLol__03pqgHZE9Vck&amp;s\"/>,\n",
       " <img alt=\"\" class=\"DS1iW\" src=\"https://encrypted-tbn0.gstatic.com/images?q=tbn:ANd9GcTIbY4GFBmB3J36YPEaeCFM4ILykIP6jCbHDEtWesR-6IfF48z01XF0rsX8pg&amp;s\"/>,\n",
       " <img alt=\"\" class=\"DS1iW\" src=\"https://encrypted-tbn0.gstatic.com/images?q=tbn:ANd9GcSYI7eZDQOL3SuSJ1cp-sGbx3JyTLXSMr0_9VSDKkb0y5bAf7k2XTfDLS4jyvY&amp;s\"/>,\n",
       " <img alt=\"\" class=\"DS1iW\" src=\"https://encrypted-tbn0.gstatic.com/images?q=tbn:ANd9GcR7OarDc3qD-4cLhHXyNTklLK-QqT0nf7glDWL1a1bMNBn4jNnb-1l3VnmK1cE&amp;s\"/>,\n",
       " <img alt=\"\" class=\"DS1iW\" src=\"https://encrypted-tbn0.gstatic.com/images?q=tbn:ANd9GcS-2Y2NaHx3ItabHQaHkl7_GIRKkUNYJe3J7rdoXMXTnbg-I4w73-t-zlIANw&amp;s\"/>,\n",
       " <img alt=\"\" class=\"DS1iW\" src=\"https://encrypted-tbn0.gstatic.com/images?q=tbn:ANd9GcRrTd7_DMIoovYLtc4p5a1A9LpNLUTz7lM-dz4nCsFXalUWT9mJBpYWkSiJxQ&amp;s\"/>,\n",
       " <img alt=\"\" class=\"DS1iW\" src=\"https://encrypted-tbn0.gstatic.com/images?q=tbn:ANd9GcQsbKv02dtGidsh9QPKuyXsi_TfoZEelpPsjPKMzw0k8eQzZpbRsWOUfJ0d7g&amp;s\"/>]"
      ]
     },
     "execution_count": 79,
     "metadata": {},
     "output_type": "execute_result"
    }
   ],
   "source": [
    "image_tags"
   ]
  },
  {
   "cell_type": "code",
   "execution_count": 80,
   "id": "795c3cac-d044-45cf-ba96-7629d17b0983",
   "metadata": {},
   "outputs": [],
   "source": [
    "del image_tags[0]"
   ]
  },
  {
   "cell_type": "code",
   "execution_count": 81,
   "id": "8b694591-a2b7-4d87-890e-1112dd6df658",
   "metadata": {},
   "outputs": [
    {
     "data": {
      "text/plain": [
       "[<img alt=\"\" class=\"DS1iW\" src=\"https://encrypted-tbn0.gstatic.com/images?q=tbn:ANd9GcRwTHJOet12n-uurMydUWTjaZ8xlkjV7SdZw_b8B3VRmpBT5SCAFNby8BatSaU&amp;s\"/>,\n",
       " <img alt=\"\" class=\"DS1iW\" src=\"https://encrypted-tbn0.gstatic.com/images?q=tbn:ANd9GcSV2wj0pPQHljkoknlW4Won3gEKYHkXe8q4SnU0oLvx99NYRR2dkR9ejAUXhBA&amp;s\"/>,\n",
       " <img alt=\"\" class=\"DS1iW\" src=\"https://encrypted-tbn0.gstatic.com/images?q=tbn:ANd9GcQd2A57q9BIVtptZeHZG5ooyHvEG9ieOlPLM6tGEflU6CImocbJOCyKzkLKp5k&amp;s\"/>,\n",
       " <img alt=\"\" class=\"DS1iW\" src=\"https://encrypted-tbn0.gstatic.com/images?q=tbn:ANd9GcT-1zBpyLnnW20zYox_2Thad-mP_lGhV65gIHus53vA7eEWJbb7N_SexKqGOQ&amp;s\"/>,\n",
       " <img alt=\"\" class=\"DS1iW\" src=\"https://encrypted-tbn0.gstatic.com/images?q=tbn:ANd9GcT4f6Dknhz2Cj-7VxKtMnrTxK1JAv6zxLpZJmG8yV6V2rHY4GzBMpS8_OhSLTs&amp;s\"/>,\n",
       " <img alt=\"\" class=\"DS1iW\" src=\"https://encrypted-tbn0.gstatic.com/images?q=tbn:ANd9GcQIqe9DXrLxOhYsckhO3c5cl_wqls3LWo1oMOSUZDGInlm9CjdSO0Z9Z4URL48&amp;s\"/>,\n",
       " <img alt=\"\" class=\"DS1iW\" src=\"https://encrypted-tbn0.gstatic.com/images?q=tbn:ANd9GcQvQ9FtjfBXOlFrAX9-7bDz8QQViDD3MUygaKgSnyY6PbFq7Ruvztnod3qIloM&amp;s\"/>,\n",
       " <img alt=\"\" class=\"DS1iW\" src=\"https://encrypted-tbn0.gstatic.com/images?q=tbn:ANd9GcS8W1HrI08AzS0gTgyzp1wweQ2kBw8bTv_Ayx3ko2cTe7Yi5GK4mR7NCR1FhA&amp;s\"/>,\n",
       " <img alt=\"\" class=\"DS1iW\" src=\"https://encrypted-tbn0.gstatic.com/images?q=tbn:ANd9GcTfJ9TZjdg70QxOwzSxUbhcykbEiSwakqBuaQyH9-IWeOMwUwWoa56r_rMD5bc&amp;s\"/>,\n",
       " <img alt=\"\" class=\"DS1iW\" src=\"https://encrypted-tbn0.gstatic.com/images?q=tbn:ANd9GcQJ4-rOs5Ddk89RrSRGKXlAj_yMO33aVEnNUPB-1IGVnBfbv8mr_WLMe76PVQ&amp;s\"/>,\n",
       " <img alt=\"\" class=\"DS1iW\" src=\"https://encrypted-tbn0.gstatic.com/images?q=tbn:ANd9GcRxY8b6TqC7iNdO7cJUk8wzRUFzE6yrg2YX3juhImysabgk7yIVTHAd7JOrvg&amp;s\"/>,\n",
       " <img alt=\"\" class=\"DS1iW\" src=\"https://encrypted-tbn0.gstatic.com/images?q=tbn:ANd9GcQwttiwYS9R6LKFTeM3bYhd3GYgKbwLkZv-csKPgI_p5Nyl9b29I68vohoaTwY&amp;s\"/>,\n",
       " <img alt=\"\" class=\"DS1iW\" src=\"https://encrypted-tbn0.gstatic.com/images?q=tbn:ANd9GcTOfdomYK3mBZrdnneTFyjH8Exw1l0psD44q7fpTN8srLcSRrsDU7Wf2kuCjQ&amp;s\"/>,\n",
       " <img alt=\"\" class=\"DS1iW\" src=\"https://encrypted-tbn0.gstatic.com/images?q=tbn:ANd9GcQOG5ZJy5446MeHZwWWN1ETIWVwCizraZJcDyhpbVFftWLol__03pqgHZE9Vck&amp;s\"/>,\n",
       " <img alt=\"\" class=\"DS1iW\" src=\"https://encrypted-tbn0.gstatic.com/images?q=tbn:ANd9GcTIbY4GFBmB3J36YPEaeCFM4ILykIP6jCbHDEtWesR-6IfF48z01XF0rsX8pg&amp;s\"/>,\n",
       " <img alt=\"\" class=\"DS1iW\" src=\"https://encrypted-tbn0.gstatic.com/images?q=tbn:ANd9GcSYI7eZDQOL3SuSJ1cp-sGbx3JyTLXSMr0_9VSDKkb0y5bAf7k2XTfDLS4jyvY&amp;s\"/>,\n",
       " <img alt=\"\" class=\"DS1iW\" src=\"https://encrypted-tbn0.gstatic.com/images?q=tbn:ANd9GcR7OarDc3qD-4cLhHXyNTklLK-QqT0nf7glDWL1a1bMNBn4jNnb-1l3VnmK1cE&amp;s\"/>,\n",
       " <img alt=\"\" class=\"DS1iW\" src=\"https://encrypted-tbn0.gstatic.com/images?q=tbn:ANd9GcS-2Y2NaHx3ItabHQaHkl7_GIRKkUNYJe3J7rdoXMXTnbg-I4w73-t-zlIANw&amp;s\"/>,\n",
       " <img alt=\"\" class=\"DS1iW\" src=\"https://encrypted-tbn0.gstatic.com/images?q=tbn:ANd9GcRrTd7_DMIoovYLtc4p5a1A9LpNLUTz7lM-dz4nCsFXalUWT9mJBpYWkSiJxQ&amp;s\"/>,\n",
       " <img alt=\"\" class=\"DS1iW\" src=\"https://encrypted-tbn0.gstatic.com/images?q=tbn:ANd9GcQsbKv02dtGidsh9QPKuyXsi_TfoZEelpPsjPKMzw0k8eQzZpbRsWOUfJ0d7g&amp;s\"/>]"
      ]
     },
     "execution_count": 81,
     "metadata": {},
     "output_type": "execute_result"
    }
   ],
   "source": [
    "image_tags"
   ]
  },
  {
   "cell_type": "code",
   "execution_count": 82,
   "id": "42515515-2acb-4145-8dd3-922930dd7c5a",
   "metadata": {},
   "outputs": [
    {
     "data": {
      "text/plain": [
       "20"
      ]
     },
     "execution_count": 82,
     "metadata": {},
     "output_type": "execute_result"
    }
   ],
   "source": [
    "len(image_tags)"
   ]
  },
  {
   "cell_type": "code",
   "execution_count": 83,
   "id": "1ea49543-2aa8-4ca1-a106-244a9994cb26",
   "metadata": {},
   "outputs": [
    {
     "name": "stdout",
     "output_type": "stream",
     "text": [
      "0\n",
      "1\n",
      "2\n",
      "3\n",
      "4\n",
      "5\n",
      "6\n",
      "7\n",
      "8\n",
      "9\n",
      "10\n",
      "11\n",
      "12\n",
      "13\n",
      "14\n",
      "15\n",
      "16\n",
      "17\n",
      "18\n",
      "19\n"
     ]
    }
   ],
   "source": [
    "for i in image_tags:\n",
    "    print(image_tags.index(i))"
   ]
  },
  {
   "cell_type": "code",
   "execution_count": 84,
   "id": "d31e8b80-f4a6-4ccf-ba9a-6cfa5c9baf49",
   "metadata": {},
   "outputs": [
    {
     "name": "stdout",
     "output_type": "stream",
     "text": [
      "https://encrypted-tbn0.gstatic.com/images?q=tbn:ANd9GcRwTHJOet12n-uurMydUWTjaZ8xlkjV7SdZw_b8B3VRmpBT5SCAFNby8BatSaU&s\n",
      "https://encrypted-tbn0.gstatic.com/images?q=tbn:ANd9GcSV2wj0pPQHljkoknlW4Won3gEKYHkXe8q4SnU0oLvx99NYRR2dkR9ejAUXhBA&s\n",
      "https://encrypted-tbn0.gstatic.com/images?q=tbn:ANd9GcQd2A57q9BIVtptZeHZG5ooyHvEG9ieOlPLM6tGEflU6CImocbJOCyKzkLKp5k&s\n",
      "https://encrypted-tbn0.gstatic.com/images?q=tbn:ANd9GcT-1zBpyLnnW20zYox_2Thad-mP_lGhV65gIHus53vA7eEWJbb7N_SexKqGOQ&s\n",
      "https://encrypted-tbn0.gstatic.com/images?q=tbn:ANd9GcT4f6Dknhz2Cj-7VxKtMnrTxK1JAv6zxLpZJmG8yV6V2rHY4GzBMpS8_OhSLTs&s\n",
      "https://encrypted-tbn0.gstatic.com/images?q=tbn:ANd9GcQIqe9DXrLxOhYsckhO3c5cl_wqls3LWo1oMOSUZDGInlm9CjdSO0Z9Z4URL48&s\n",
      "https://encrypted-tbn0.gstatic.com/images?q=tbn:ANd9GcQvQ9FtjfBXOlFrAX9-7bDz8QQViDD3MUygaKgSnyY6PbFq7Ruvztnod3qIloM&s\n",
      "https://encrypted-tbn0.gstatic.com/images?q=tbn:ANd9GcS8W1HrI08AzS0gTgyzp1wweQ2kBw8bTv_Ayx3ko2cTe7Yi5GK4mR7NCR1FhA&s\n",
      "https://encrypted-tbn0.gstatic.com/images?q=tbn:ANd9GcTfJ9TZjdg70QxOwzSxUbhcykbEiSwakqBuaQyH9-IWeOMwUwWoa56r_rMD5bc&s\n",
      "https://encrypted-tbn0.gstatic.com/images?q=tbn:ANd9GcQJ4-rOs5Ddk89RrSRGKXlAj_yMO33aVEnNUPB-1IGVnBfbv8mr_WLMe76PVQ&s\n",
      "https://encrypted-tbn0.gstatic.com/images?q=tbn:ANd9GcRxY8b6TqC7iNdO7cJUk8wzRUFzE6yrg2YX3juhImysabgk7yIVTHAd7JOrvg&s\n",
      "https://encrypted-tbn0.gstatic.com/images?q=tbn:ANd9GcQwttiwYS9R6LKFTeM3bYhd3GYgKbwLkZv-csKPgI_p5Nyl9b29I68vohoaTwY&s\n",
      "https://encrypted-tbn0.gstatic.com/images?q=tbn:ANd9GcTOfdomYK3mBZrdnneTFyjH8Exw1l0psD44q7fpTN8srLcSRrsDU7Wf2kuCjQ&s\n",
      "https://encrypted-tbn0.gstatic.com/images?q=tbn:ANd9GcQOG5ZJy5446MeHZwWWN1ETIWVwCizraZJcDyhpbVFftWLol__03pqgHZE9Vck&s\n",
      "https://encrypted-tbn0.gstatic.com/images?q=tbn:ANd9GcTIbY4GFBmB3J36YPEaeCFM4ILykIP6jCbHDEtWesR-6IfF48z01XF0rsX8pg&s\n",
      "https://encrypted-tbn0.gstatic.com/images?q=tbn:ANd9GcSYI7eZDQOL3SuSJ1cp-sGbx3JyTLXSMr0_9VSDKkb0y5bAf7k2XTfDLS4jyvY&s\n",
      "https://encrypted-tbn0.gstatic.com/images?q=tbn:ANd9GcR7OarDc3qD-4cLhHXyNTklLK-QqT0nf7glDWL1a1bMNBn4jNnb-1l3VnmK1cE&s\n",
      "https://encrypted-tbn0.gstatic.com/images?q=tbn:ANd9GcS-2Y2NaHx3ItabHQaHkl7_GIRKkUNYJe3J7rdoXMXTnbg-I4w73-t-zlIANw&s\n",
      "https://encrypted-tbn0.gstatic.com/images?q=tbn:ANd9GcRrTd7_DMIoovYLtc4p5a1A9LpNLUTz7lM-dz4nCsFXalUWT9mJBpYWkSiJxQ&s\n",
      "https://encrypted-tbn0.gstatic.com/images?q=tbn:ANd9GcQsbKv02dtGidsh9QPKuyXsi_TfoZEelpPsjPKMzw0k8eQzZpbRsWOUfJ0d7g&s\n"
     ]
    }
   ],
   "source": [
    "for i in image_tags:\n",
    "    print(i['src'])"
   ]
  },
  {
   "cell_type": "code",
   "execution_count": 85,
   "id": "4ae154bc-73fa-4461-944b-b7d62c35419d",
   "metadata": {},
   "outputs": [],
   "source": [
    "response=requests.get(f\"https://encrypted-tbn0.gstatic.com/images?q=tbn:ANd9GcS6PtbO3oSFgC1yh6BPlre0Sr5h3aca6UrEmg7ibGUrD1g40Xm5cZBGYl7G3PU&s\").content"
   ]
  },
  {
   "cell_type": "code",
   "execution_count": 86,
   "id": "4e2f5244-2700-4fd8-abb8-95a437ccb4c0",
   "metadata": {},
   "outputs": [
    {
     "data": {
      "text/plain": [
       "b'\\xff\\xd8\\xff\\xe0\\x00\\x10JFIF\\x00\\x01\\x01\\x00\\x00\\x01\\x00\\x01\\x00\\x00\\xff\\xdb\\x00\\x84\\x00\\t\\x06\\x07\\x08\\x07\\x06\\t\\x08\\x07\\x08\\n\\n\\t\\x0b\\r\\x16\\x0f\\r\\x0c\\x0c\\r\\x1b\\x14\\x15\\x10\\x16 \\x1d\"\" \\x1d\\x1f\\x1f$(4,$&1\\'\\x1f\\x1f-=-157:::#+?D?8C49:7\\x01\\n\\n\\n\\r\\x0c\\r\\x1a\\x0f\\x0f\\x1a7%\\x1f%77777777777777777777777777777777777777777777777777\\xff\\xc0\\x00\\x11\\x08\\x00\\x8c\\x00\\\\\\x03\\x01\"\\x00\\x02\\x11\\x01\\x03\\x11\\x01\\xff\\xc4\\x00\\x1c\\x00\\x00\\x01\\x05\\x01\\x01\\x01\\x00\\x00\\x00\\x00\\x00\\x00\\x00\\x00\\x00\\x00\\x06\\x02\\x03\\x04\\x05\\x07\\x00\\x01\\x08\\xff\\xc4\\x00>\\x10\\x00\\x02\\x01\\x03\\x02\\x04\\x02\\x06\\x08\\x04\\x04\\x07\\x00\\x00\\x00\\x00\\x01\\x02\\x03\\x00\\x04\\x11\\x05\\x12\\x06!1Q\\x13A\\x07\"aq\\x81\\x91\\x14\\x152BR\\xa1\\xb1\\xf0\\x16#C\\xc1$3\\xd1\\xf1Tbr\\xa2\\xa3\\xc2\\xe1\\xff\\xc4\\x00\\x19\\x01\\x00\\x02\\x03\\x01\\x00\\x00\\x00\\x00\\x00\\x00\\x00\\x00\\x00\\x00\\x00\\x00\\x01\\x04\\x00\\x02\\x03\\x05\\xff\\xc4\\x00 \\x11\\x00\\x02\\x03\\x01\\x00\\x02\\x03\\x01\\x01\\x00\\x00\\x00\\x00\\x00\\x00\\x00\\x00\\x01\\x02\\x03\\x11!\\x1212Aa\"\\x04\\xff\\xda\\x00\\x0c\\x03\\x01\\x00\\x02\\x11\\x03\\x11\\x00?\\x00\\xc4j\\xd7M\\xe1\\xcdWS\\xb1\\x92\\xfa\\xc6\\xd7\\xc5\\xb6\\x8d\\xccl\\xfe*)\\xdc\\x00$`\\x90O\":UUX\\xd8k\\xba\\x8e\\x9do\\xf4{)\\xd68\\xc3\\x99\\x17\\xf9H\\xcc\\x8c@RU\\x88%I\\x00\\x0eDU\\xc0\\x85\\xff\\x00\\x0e\\xeb\"X\\xa2\\x93K\\xbc\\x89\\xa5\\x99`C4\\r\\x1a\\x99\\x1b\\x1bWs`\\x02r:\\x9ar\\xeb\\x85\\xb5\\xdbYR)t\\xab\\xb6y\\x13z\\x88\\xa3\\xf12\\xb9\\xc7\\xdd\\xce<\\xb9{GqJ\\xb9\\xe2\\xbdr\\xe7g\\x8d~\\xc7d\\x8b*\\x81\\x12(\\x0c\\xa7 \\x80\\x07~t\\xf8\\xe3\\x8e#\\x0c\\x18\\xealYNC41\\x929\\xe7\\xa9^\\xe0|\\x87j\\x1d\\t_>\\x83\\xaa\\xdb\\xcca\\x9a\\xc2u\\x90B\\xb3m\\xd9\\x92P\\xe3\\x0c1\\xd4s\\xf2\\xe9\\xcf=\\r&\\xdbF\\xd4n]\\xd2\\x1bY7\\xc6T:\\xb6\\x14\\xae\\xee\\x9c\\x8e:\\xe2\\xa6M\\xac\\xeb\\x9a\\x8c\\x82\\xeek\\x97\\x9aE\\x84B$dNH\\x0e@\\x07\\x1eG\\x98\\xed\\xe5L\\x9dGU\\xfa]\\xcd\\xcaJ\\xd1Ips&\\xccc\\x97A\\xcf\\xb0\\xa9\\xa4\\x19]\\x17Sh\\xbcQcpWv\\xdeQ\\x9c\\xe7\\x19\\xe9\\xd7\\xcf\\xad64\\xcb\\xe2\\xae\\xc2\\xd2\\x7f\\xe5\\xe3p\\xf0\\xceFA \\xe3\\xae0\\x0f:\\x9b\\xf5\\xf6\\xb2\\n\\xb0\\xbb>\\xaep6!\\xc6z\\xf2\\xc5F\\x8fW\\xd4m\\xe5\\x92D\\xb8eyp\\\\\\x95\\x1c\\xf00:\\x8e\\xc6\\xa1\\x04}U\\xa8\\x7f\\xc0]\\xe78\\xc7\\x80\\xdd\\xb3\\xdb\\xb7:\\xe1\\xa5j\\x04\\xe1l.\\xc9\\xce9@\\xddq\\x9e\\xdd\\xaaC\\xf1\\x0e\\xab\"\\x95\\x92\\xebpc\\xeb\\x03\\x1a`\\xf2\\xc7jKk\\xfa\\xa3u\\xbb=1\\xf6\\x17\\xa61\\x8e\\x9d=\\x94zB\\xb9\\x81V*\\xc0\\x82\\x0e\\x08>U\\xe5*Gi$gs\\x96bX\\x9e\\xe4\\xd2j\\x10\\xea\\xea\\xeav\\xd6\\x07\\xb9\\x9d!\\x8dK;\\x1c\\x00*\\x00\\xf6\\xda\\xdaK\\x86\\xc2\\x0eC\\xed1\\xe8*\\xda=2( Y\\x1d\\x84\\x8eG0\\x0ev\\x83\\xe6|\\x85Z\\xad\\xbai\\xb0\\xa4\\x0b\\x10}\\xc3,\\xac>\\xd1\\xf3\\xcfzD\\x92x\\xa1\\xb7\\xc6[\\xccm\\xe5\\x8ff*\\x9eE\\xf0\\x89$q\\xc9\\xb9\\xc4\\xacb\\x1c\\x94\\xc7\\xcb\\x9f\\xb3\\x955\\x1d\\xa1\\x00I\\n\\t\\x06zw\\xa9Q\\xa4h\\xff\\x00\\xce\\x8aLt\\x1bz\\n\\x93qk\\x18\\x91^Y\\x15\\x95\\xb1\\xc9\\xc9\\xed@\\x98T\\xdd\\x19C\\x01=\\xba\"\\x8f\\xc2\\xb8?\\x1aj[Q2\\xeeS\\xbboQ\\x8ex\\xefWM\\r\\xac\\xbc\\x98 \\xd9\\xe6\\x07Q\\xee\\xf8\\xd49\\xd6\\xd9\\x0e\\xd1\\xb9\\xc1\\x1fhT\\x0bE,\\xb6N\\xa0\\xb4j\\xc4\\x01\\x921\\xccTZ$\\x86\\x04l\\x95L\\x0c\\xfd\\x80rq\\xdf\\x9dF\\xbb\\xb0\\x8d\\xd2R2$^a\\xb1\\xf6\\xf1\\xde\\xac\\x99\\\\)+\\xab\\xab\\xaa\\xc0:\\x8b\\xf8\\'I`\\x87V\\x9cm\\x8fw\\x87\\t?\\xf7\\xb7\\xc0d|\\xe8E\\xbaV\\xbf\\xc4V?V\\xf0^\\x9bo\\x12b\\x19!\\x8d\\x83c\\x04\\r\\x99\\xfc\\xd9\\xbf*\\xac\\xdf\\xd0b\\xba\\x06_\\x19uK\\xc7\\x96=\\xdb\\x19\\xfdQ\\xec\\xe9\\xca\\xad\\xec\\xf4\\x1b\\x97\\x87\\x18\\x1d9\\xee\\xaft(\\xd1#\\x8dH\\xc9Q\\xd6\\x8d\\xb4\\xd8\\xd5\\xb0H\\xa5\\xa7fpn\\xba\\x93Z\\xc09\\xb8sP\\x91\\x99V2\\xeb\\xe7\\x81K\\xfe\\x18\\xd4\\xa4B\\x9e\\x1b\\xe7\\xae\\xd2+a\\xb1D\\x00\\x00\\xa3\\xe5V\\xb6\\xd0BN\\n/?e\\x05ca\\x95qF\\x1c83P\\xd9\\x97\\x8aL\\x82\\x00\\xe5\\xd7\\x9d#\\xf8?PIT\\x18\\x89\\x1f\\xbe\\xb5\\xbc\\xdd\\xc6\\xab\\x18!GJ\\xa7\\xbb yT\\x95\\x8d\\x125\\xc6F1\\xa8h\\xf7\\x9az\\x97\\xb8\\x89\\xb0\\x83\\x99\\x07\\x19\\xa8\\xd7r[\\xbbF-c,[\\xfc\\xc6e\\xf5I\\xf6~\\xfc\\xebU\\xd5\\xa1\\x8a\\xea\\x03\\x14\\xa9\\xb9\\x1c`\\xd0(\\xd3\\xe2\\xfaK@1\\x84\\x1c\\x97\\xbf\\x9f?\\xce\\xad\\x0b7\\xd9\\x9d\\x95\\xe7\\xa39\\xd4\\xad\\xcd\\xad\\xdb\\xc4\\xddz\\xe7\\xdfQh\\xbf\\x8e4\\xef\\x06\\x0bk\\xd5\\x18\\xcb\\x98\\x1b\\xde2z\\xfe\\xfc\\xa8B\\x99\\x8b\\xd4,\\xd6\\x1e\\xb7J\\xfa\"\\xe6\\xd4q\\x17\\x05\\xe8\\xf3D\\xa2 \\xd6i\\xb4\\x1f#\\x8c~X\\xfc\\xeb\\xe7\\x8a\\xfa\\x0b\\xd1\\xcd\\xc4\\x97\\xfc\\x13\\xa3\\xd9\\xb9ud\\xdd\\x14\\x99\\x1c\\xd4\\x06l~[~t,\\x0c\\x01\\x1d6\\xc8D\\x85\\x0f2\\xad\\x8a\\'\\xd3\\x06\\x00\\xcd/[\\xd3\\x13O\\xba\\x0f\\x1eBH~\\xc9\\xe7\\x83K\\xb4C\\xe2(\\xc6\\x01\\xee)+=\\x9d\\n\\xda\\xf1/l\\x9f\\x04U\\xd4L96y\\xd5M\\x9c `\\x9e\\x95j\\x14\\x05]\\xa7\\x97\\x95H\\xa0M\\xe8\\xe4\\xf3\\xab&;U-\\xeb+\\x0e\\xa3\"\\xad\\x8cYB\\x01\\x19\\xaa\\x9b\\xe8Ly\\xc994$H\\x10Z?\\x15\\x08\\x03\\xd6\\xa0\\xbb\\x8b\\t\\xbf\\x88aP\\xa7.\\xfbz\\xf5\\x1d\\xa8\\xfa\\xcc\\x03>\\xd1\\x93\\xcb\\x19\\xa5j:tp\\xcd\\x1c\\xdb\\x0c\\x81\\\\\\x8d\\xca\\xbc\\xc7,\\xff\\x00j\\xb5k\\x9aR\\xc7\\xf4\\x07zC\\xd3m\\xadx\\x16\\xf9\\xa7@fiU\\xd3\\x1dU\\xf7\\x0e|\\xfd\\x87\\xe5\\x9a\\xc3\\xcfZ\\xd1\\xbd0\\xf1#j:\\x94\\x1at\\x0c\\xe9\\x1c+\\xbe`\\x0e\\x033\\x01\\x81\\xf0\\x1f\\xadg4\\xddk\\x10\\x9c\\xdfE7J\\xfa\\x07\\xd1}\\xe5\\xc6\\xa1\\r\\xf6\\xa9t\\x1c\\xbd\\xc9M\\xe0/\\xf2\\xcc\\x9e\\x1a\\x12\\xc3\\xf0\\xe4?O\\xf9I\\xe5\\xd2\\xbe\\x7f5\\xb0\\xfa\\x19\\xd5\"\\xdde`\\xed\\xc8\\xc3r\\xa4g\\xefoF\\xf9\\xe0\\xaf\\xecQ\\xb00\\nx\\x8fY\\xb0\\xd3\\xf4\\x99\\xa4\\xbbP\\xd3\\x96e\\x8d\\x18\\xe3i\\xefAC\\x8bo\\xf9Iia,\\xaaz\\x85]\\xc3\\x1f\\x01R\\xbd#\\xe9\\x93\\xdcj\\xcf\\x1c+\\x98\\xd1\\x8b\\x15\\xf6\\x9a\\xa2\\xd34\\xb3yk5\\x9c\\xda\\xa3\\xdb\\xdd\\r\\xbe\\x1c,\\xec\\x91\\x80\\x0f>C\\x91\\xcf\\xba\\xb1\\x966o\\x1f$\\xb8\\x14\\xe9<w\\x14\\xd2\\x0b{\\xc8d\\xb6\\x9b=$R\\xb4Yo\\xaa\\x06\\x8f|m\\x90|\\xe8\\x1a\\xf7\\x82\\xad\\xee--\\xa3\\xb2\\xd4\\xd2K\\xcd\\xa5\\xa6\\'w\\x87\\x9c\\x93\\xcb=1\\xd3\\xe1D|\\x03g#\\xe8\\xf2\\xc1z\\x7f\\x9b\\t*O^U\\x94\\xb1z5\\x8by\\xd2v\\xa5\\xc5V\\x9adM$\\xd2\\x02G\\xdd\\x1dM\\x0cK\\xe9\\x12\\xe2\\xeao\\xf0\\xdas\\xf8?\\x89\\xd7\\xaf\\xc6\\xbbS\\xe1\\xb6\\x9bP\\x92\\xe2k\\xa4\\x8a\\xdc\\xcb\\xb7$\\x8d\\xc8\\xbe\\xcc\\xfe\\xb4\\xc8\\xe1\\xcb\\x8bK\\xcb\\x99#\\xd7\\xd9l\\xf0\\xc6\\xdc%\\xcb\\xe4\\x93\\x8d\\xa1\\x97\\xa1\\x03\\x1f\\x99\\xef\\xc8\\xa4\\x9a\\x04\\x9bO\\x881\\xe1]j\\rP\\xca\\x92Fa\\x90\\r\\xdb\\x89\\x18\\x07\\xdfW\\xb2\\x96K\\r\\xdb\\xc0T\\x939#\\xa0\\xc6\\x0ek?\\xe1\\xed:\\xf6\\xcbQY\\xae#M\\xe7\\x91\\x92!\\x84q\\x9e\\xb8\\xf28\\xa3\\xcd]Xh^\\x1cg\\x0f6\\x11p3\\xcc\\x9e\\xdd\\xb1\\x9a\\xb2k\\nI\\x7fH\\xc6},\\xcdoq\\x14M\\x0e\\x9f\\x14O\\x15\\xd1Cu\\xd1\\xe6\\xca\\x03\\x8f\\xfa@\\xdb\\xd7\\xcf=3\\xcf6\\xad\\x0f\\xd3M\\xe2\\xbe\\xbbge\\x18\\x00Cl\\xb2\\xc9\\x83\\xfdG\\x00\\x1e^\\xe4\\x1f:\\xcf+z\\xfe&\\x16g\\x90\\xaa<\\xf4U\\x7f\\x05\\xad\\xed\\xcaK\\x18y\\xc4\\x90=\\xa9\\xdb\\x93\\x1b\\x17\\x08\\xec;z\\x8cA>\\xea\\x03&\\xa7p\\xfd\\xec\\xd6\\x1a\\xd5\\x95\\xc5\\xbb\\x94u\\x9d\\x06Gby\\x83\\xec\"\\xaf%\\xa8\\xa4^3\\x7f\\xd6/l\\xe6\\xd4\\xe5W\\xc6I\\xdaGj\\x8e\\x9a%\\x8d\\xd3\\xabIo\\x14\\xf8\\xe8Xs\\xa0^\\'\\xd5\\r\\xbf\\x15\\xdd`\\x9f\\t\\xe4$\\x1f\\x89\\xff\\x00J8\\xe1{\\xa14Hwu\\xf6\\xd2SM=\\x1f\\xaf\\x1cp\\xb86\\xf0i\\xb6L\\xcb\\x14q\\xae\\xd3\\x85U\\xfdj\\x0f\\x08]\\xa3\\xde\\xdfF\\xa3\\x03\\xa8\\xc7lS\\xfcQ6\\xcd\\x1ew/\\xb0\"\\xe4\\xb1\\xf2\\xaa\\x0e\\x05\\xd4\\xf4\\xd5\\x9a\\xe6H\\xae\\xb7\\x87$`\\xf5\\x15O\\xd0\\xfe\\x05\\x16\\x9e\\x15\\xcd\\xbb\\xc4\\xea7n8$u\\xe6yW\\x83\\x86\\xf4\\xd5a7\\xd0\\x10\\xb8\\xe87\\x1c|\\xbaUv\\x8fy\\r\\xc5\\xe3}\\x1a\\xe9e!\\xce\\xe5V\\xce\\x00\\xa2\\xb32\\x882O\\x95\\x00\\xb2\\x0cj\\x8c\\xfe\\x16\\x00\\xe5H\\xd6n\\xa3@\\xc5\\xe40\\xc1mj\\xf7-.3\\xb7h\\xcf\\xe8\\x1a\\xabe\\xbd\\x11\\\\\\x92Fq\\xd0\\xd0G\\xa6\\x1e(\\xbb\\xb3X\\xf8z\\xd8*\\xc5uj\\x93O0>\\xb1\\x05\\x9b*;\\x03\\x81\\x9e\\xe3\\x95kZ\\xf2\\xe1\\x8d\\x8f\\xc7\\xa6[\\xacjSj\\xfa\\x9d\\xce\\xa1s\\xfem\\xc4\\x85\\xc8\\xcep<\\x87\\xc0`|*\\x1duu8(zzW+\\x14!\\x94\\x90\\xc0\\xe4\\x11\\xe4k\\xca\\x97c\\xa7\\xcfx\\xe3h\\xd9\\x17\\xde\\x95\\x87 ?\\xbf\\xba\\x8b\\x00W\\xc4r-\\xe5\\xea\\\\\\xc6C,\\xb1\\xabg\\xde3\\xfd\\xe8\\x8f\\x82u\\x07\\x8c\\xacNq\\xb7\\xa6M\\x0b]E\\x12\\xdaD\\x96\\xcc\\xc4\\xc0\\x9bT1\\xc9`<\\xff\\x00~\\xca\\x97\\xc3\\xb7?Ig\\x8e\\xdc\\x81>\\xde@\\x9cf\\x96\\xb2<\\x1b\\xae]5[\\xb9-\\xb5\\x0b[\\x8bK\\x82\\x1e9\\xa3*\\xeb\\x9e\\xa2\\xb2\\x14\\xe1\\xdd^\\xd3Px\\xac\\xcb\\x08\\x9aM\\xa1\\x81=\\t\\xc5OMS[\\xb0\\xbekw{T$\\xf22\\x12p?\\xbd\\x12\\xe9\\xb3q\"\\x13,Z\\xb6\\x8d20\\xfb2\\xa9\\x1e\\x19\\xf6\\x0c\\x1a\\xcd\\'\\x13l\\xf3\\x08xS\\x86\\xed8qL\\xe9\\xb9\\xee\\xddq#\\xb1\\xef\\xd7\\x95X\\xeaWl\\xb0\\xb1\\x8f8\\xedB7\\x9a\\xd7\\x11Y\\r\\xb2\\xdfi7\\x8c\\x7f\\x02\\xb2\\x91\\xf1\\xff\\x00\\xe5J\\xb0\\x9fU\\x8a\\\\\\xea\\xed\\x01\\x81\\xbda\\xb0\\xf3\\xf7`\\xd6m2\\xde\\xb8J\\xd4!\\x95\\xd6\\xc4\\x8c\\xab\\xb8\\xdc\\xc3\\xe2k?\\xf4\\xbd\\x13\\xcf\\xc4\\x02\\xea7\\xf1#\\x86\\x08\\xe0\\x93\\x1f\\xd3ln\\x00\\xfb\\xf7V\\xb1x\\xbfX\\xdc\\xdbEd\\x9e#\\xc4\\xa4\\x01\\xe5\\x803\\xf2\\xac\\x83C\\xbd\\x93V\\xd4o\\xce\\xa5\\x18\\x92;\\xf6f\\x9a2zg\\xcb\\xe1\\xcb\\x1e\\xe1LR\\xbb\\xa2\\xb7>`\\x11]V\\xfcI\\xa1M\\xa1\\xdfxL|Ky2`\\x9b\\xf1\\x8e\\xc7\\xda<\\xc5TS\\x02\\xe5\\x8d\\xbc\\x96\\xb0\\xce1\\x02\\x94\\x1fz_X\\xfc\\xbaS\\xb1\\xea\\x12\\xcf#\\xbc\\x84\\xe1\\x9b\\x01\\x7f\\x08\\x1f\\xefP\\xe5Zi$)\\xcb\\xdbD\\x05\\xa5\\xfd\\xdb\\xac(\\xd1\\xb9WF\\x04\\x11K\\xb2Y!6\\xfa\\xa4N\\x12\\'\\x90\\xa3\\x14\\xfe\\x93\\x8f#\\xf3\\xc8\\xaa\\x89fg\\x188\\xc5.\\xda\\xeeX#\\x92%c\\xe1\\xc9\\x8d\\xcb\\xed\\x1d\\rVKKE\\xe34)4\\x93\\xac\\x05i\\'\\x04m\\xceI\\xc5L\\xb1\\xe0\\xb4h\\x15\\xde\\xeas\\x1b\\x1d\\xa0\\xa3\\x903\\xda\\xb3\\xfbm^\\xe2\\xdd\\x08\\x0evc\\xec\\x83\\xfaV\\xd7\\xa0@,\\xb4;(D\\xce\\xcc\\x1dC\\x9e\\x800S\\x9c|yg\\xce\\x94\\x9aq^\\xc7+\\x92\\x93+\\xa0\\xe0\\x85\\xb4\\x91dk\\xa97\\x80\\x19<C\\x9f\\x8d*\\xf2(\\xad\\xa6\\x8a;\\x99\\xc4\\xb8m\\xc7\\x07\\x14\\xd7\\xa4\\xedN\\xe3G\\xfa\\xaa\\xe6\\xd2G0\\xcb\\x1c\\x90\\x9e\\xca\\xcas\\xff\\x00\\xb3|\\xab5\\xb8\\xd7.\\xee\\xee\\x92WbB\\x9c\\xec\\xcf\"G~\\xf5\\x15m\\xbd\\x0b\\xb1#b\\xd5\\xb5\\xfbn\\x1c\\xd0\\xa41\\xba\\xad\\xf5\\xd4d\\'uLso\\xdfSYO\\x0bK\\xbbQg\\xc7\\xdb\\x05\\xb1\\xdb\\x9dR\\xea\\x9a\\x9d\\xce\\xa7p\\xed4\\xad#1\\x1b\\x98\\xf9\\xe3\\xa0\\x1e\\xc1V\\x9a\\x0c\\xd1C>\\x1c\\x90\\xe7\\x90\\xa6k\\x87\\x8a\\x14\\xb2~L.\\xd5\\xa6It\\xf9\"\\x91\\x16@\\x08m\\x8e\\xb9\\x04t?\\xaf\\xe5AW6:1\\x99\\xb7%\\xd4\\'\\xcd\"pW\\xe1\\x90O\\xe7D\\x97/\\x98\\xa4$\\xf3(\\xd8\\xf7\\xe2\\x84\\xe6\\x93\\xc4\\x90\\xb7z\\xd3\\x0c\\xd9\\r\\xc5G\\x92<\\x1eU-\\xc7*m\\x87*\\x80!\\xe0\\xd7\\x9d)\\xe6\\x034\\x87\\x02\\x80IZ4-u\\xaa\\xd9[\\x05\\x04\\xcb:.\\x08\\xc8\\xe6\\xc2\\xb7\\x15\\x97u\\x8cL\\xe7\\xd7k\\x80s\\x8cg\\'\\x1d+%\\xf4y\\x02\\\\qe\\xa2\\xc8\\tUI[\\x97p\\x8d[\\x1d\\xaa\\xc6\\xd6\\x86&\\x896\\x88\\x0c\\xc3\\xcb\\x0c\\x08\\xc7O!\\xda\\x95\\xbd\\xfa\\x1b\\xff\\x00?\\xd9U\\xe9B\\xceK\\xee\\x07\\x92\\xe5H\\xff\\x00\\x01<r2\\xe3\\x9e\\xdc\\x94\\xcf\\xfeE\\xf9V(\\xd2\\xb3\\xfa\\xa9\\xea\\x8f?m}+\\xabZEq\\xc2Z\\xd4\\x12\\x03\\xb1\\xb4\\xf9\\x18\\x9f<\\xed?\\xe8>U\\xf3D\\x038\\xcdiO\\xc4\\xca\\xe7\\xfd\\x0f\\xdb\\xa7\\xac*R\\xb1F\\x0c\\xbdE\"1\\x82qK\\xf2\\xa6\\x0c\\x0b?\\xadw\\xc0\\x8a\\xca\\xdb\\x80\\xc5Vc\\xda+\\xb1Ha\\x93P\\'\\xff\\xd9'"
      ]
     },
     "execution_count": 86,
     "metadata": {},
     "output_type": "execute_result"
    }
   ],
   "source": [
    "response"
   ]
  },
  {
   "cell_type": "code",
   "execution_count": 87,
   "id": "dfc62083-3298-44c7-b342-8249ad7327f8",
   "metadata": {},
   "outputs": [],
   "source": [
    "for i in image_tags:\n",
    "    image_url=i['src']\n",
    "    image_data=requests.get(image_url).content\n",
    "    with open(os.path.join(save_dir,f\"{query}_{image_tags.index(i)}.jpg\"),\"wb\") as f:\n",
    "        f.write(image_data)"
   ]
  },
  {
   "cell_type": "code",
   "execution_count": null,
   "id": "198f6c99-087b-421f-ae19-7de518cfc3ee",
   "metadata": {},
   "outputs": [],
   "source": []
  },
  {
   "cell_type": "code",
   "execution_count": null,
   "id": "f231d365-597b-4946-8fc9-2396c891146f",
   "metadata": {},
   "outputs": [],
   "source": []
  }
 ],
 "metadata": {
  "kernelspec": {
   "display_name": "Python 3 (ipykernel)",
   "language": "python",
   "name": "python3"
  },
  "language_info": {
   "codemirror_mode": {
    "name": "ipython",
    "version": 3
   },
   "file_extension": ".py",
   "mimetype": "text/x-python",
   "name": "python",
   "nbconvert_exporter": "python",
   "pygments_lexer": "ipython3",
   "version": "3.11.5"
  }
 },
 "nbformat": 4,
 "nbformat_minor": 5
}
